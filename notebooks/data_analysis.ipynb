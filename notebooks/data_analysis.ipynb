{
 "cells": [
  {
   "cell_type": "code",
   "execution_count": null,
   "metadata": {},
   "outputs": [],
   "source": [
    "import pandas as pd\n",
    "import psycopg2\n",
    "from psycopg2 import sql\n",
    "\n",
    "# Connect to the database\n",
    "conn = psycopg2.connect(dbname='hospital_scraper', user='scraper_user', password='password', host='localhost', port='5432')\n",
    "\n",
    "# Load data into a DataFrame\n",
    "df = pd.read_sql_query(\"SELECT * FROM wait_times\", conn)\n",
    "\n",
    "# Perform data analysis\n",
    "print(df.head())\n",
    "\n",
    "# Close the connection\n",
    "conn.close()\n"
   ]
  }
 ],
 "metadata": {
  "language_info": {
   "name": "python"
  }
 },
 "nbformat": 4,
 "nbformat_minor": 2
}
